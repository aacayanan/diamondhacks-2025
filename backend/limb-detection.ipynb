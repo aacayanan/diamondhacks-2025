{
 "cells": [
  {
   "cell_type": "code",
   "id": "initial_id",
   "metadata": {
    "collapsed": true,
    "ExecuteTime": {
     "end_time": "2025-04-05T21:10:02.666586Z",
     "start_time": "2025-04-05T21:09:41.709554Z"
    }
   },
   "source": [
    "# import dependencies\n",
    "import cv2\n",
    "import mediapipe as mp\n",
    "import numpy as np\n",
    "import math"
   ],
   "outputs": [],
   "execution_count": 1
  },
  {
   "metadata": {
    "ExecuteTime": {
     "end_time": "2025-04-05T21:10:04.858957Z",
     "start_time": "2025-04-05T21:10:04.852238Z"
    }
   },
   "cell_type": "code",
   "source": [
    "# initialize the mediapipe poses and drawing utilities\n",
    "mp_drawing = mp.solutions.drawing_utils\n",
    "mp_pose = mp.solutions.pose"
   ],
   "id": "41f853f32e1fb574",
   "outputs": [],
   "execution_count": 2
  },
  {
   "metadata": {
    "ExecuteTime": {
     "end_time": "2025-04-05T21:10:06.862Z",
     "start_time": "2025-04-05T21:10:06.850702Z"
    }
   },
   "cell_type": "code",
   "source": [
    "def calculate_angle(a, b, c):\n",
    "    # find vector between AB (vector u) and AC (vector v)\n",
    "    u = ((a.x - b.x), (a.y - b.y))\n",
    "    v = ((a.x - c.x), (a.y - c.y))\n",
    "\n",
    "    # dot_product\n",
    "    dot_uv = np.dot(u, v)\n",
    "\n",
    "    # magnitude of u\n",
    "    mag_u = math.sqrt(pow(u[0], 2) + pow(u[1], 2))\n",
    "    mag_v = math.sqrt(pow(v[0], 2) + pow(v[1], 2))\n",
    "\n",
    "    # magnitude of uv\n",
    "    mag_uv = mag_u * mag_v\n",
    "   \n",
    "    theta_rad = math.acos(dot_uv / mag_uv)\n",
    "  \n",
    "    # radians to degrees\n",
    "    theta_deg = math.degrees(theta_rad)\n",
    "    return round(theta_deg, 2)"
   ],
   "id": "82c887e12f9c7773",
   "outputs": [],
   "execution_count": 3
  },
  {
   "metadata": {
    "ExecuteTime": {
     "end_time": "2025-04-05T21:12:38.474388Z",
     "start_time": "2025-04-05T21:12:29.457567Z"
    }
   },
   "cell_type": "code",
   "source": [
    "# setup mediapipe\n",
    "cap = cv2.VideoCapture(0)\n",
    "r_elbow_angle = []\n",
    "l_elbow_angle = []\n",
    "\n",
    "# check if camera can open\n",
    "if not cap.isOpened():\n",
    "    print(\"Could not open camera\")\n",
    "    exit()\n",
    "    \n",
    "with mp_pose.Pose(min_detection_confidence=0.5, min_tracking_confidence=0.5) as pose:\n",
    "    while cap.isOpened():\n",
    "        ret, frame = cap.read()\n",
    "        \n",
    "        # invert the video\n",
    "        frame = cv2.flip(frame, 1)\n",
    "        \n",
    "        # recolor image to RGB\n",
    "        image = cv2.cvtColor(frame, cv2.COLOR_BGR2RGB)\n",
    "        image.flags.writeable = False       # makes image read-only for detection\n",
    "        \n",
    "        # make the detection\n",
    "        results = pose.process(image)\n",
    "        \n",
    "        # recolor back to BGR\n",
    "        image.flags.writeable = True\n",
    "        image = cv2.cvtColor(image, cv2.COLOR_RGB2BGR)\n",
    "        \n",
    "        # get landmarks\n",
    "        try:\n",
    "            landmarks = results.pose_landmarks.landmark\n",
    "            \n",
    "            # get coordinates right shoulder\n",
    "            r_shoulder = landmarks[mp_pose.PoseLandmark.LEFT_SHOULDER.value]\n",
    "            r_elbow = landmarks[mp_pose.PoseLandmark.LEFT_ELBOW.value]\n",
    "            r_wrist = landmarks[mp_pose.PoseLandmark.LEFT_WRIST.value]\n",
    "            # get coordinates left shoulder\n",
    "            l_shoulder = landmarks[mp_pose.PoseLandmark.RIGHT_SHOULDER.value]\n",
    "            l_elbow = landmarks[mp_pose.PoseLandmark.RIGHT_ELBOW.value]\n",
    "            l_wrist = landmarks[mp_pose.PoseLandmark.RIGHT_WRIST.value]\n",
    "            \n",
    "            # calculate angle\n",
    "            r_angle = calculate_angle(r_elbow, r_wrist, r_shoulder)\n",
    "            l_angle = calculate_angle(l_elbow, l_wrist, l_shoulder)\n",
    "            \n",
    "            r_elbow_angle.append(r_angle)\n",
    "            l_elbow_angle.append(l_angle)\n",
    "            \n",
    "            # visualize\n",
    "            cv2.putText(image, str(r_angle), tuple(np.multiply((r_elbow.x, r_elbow.y), [640, 480]).astype(int)), cv2.FONT_HERSHEY_PLAIN, 2, (255, 255, 255), 2, cv2.LINE_AA)\n",
    "            cv2.putText(image, str(l_angle), tuple(np.multiply((l_elbow.x, l_elbow.y), [640, 480]).astype(int)), cv2.FONT_HERSHEY_PLAIN, 2, (255, 255, 255), 2, cv2.LINE_AA)\n",
    "        except AttributeError:\n",
    "            pass\n",
    "        \n",
    "        # render detections\n",
    "        mp_drawing.draw_landmarks(image, results.pose_landmarks, mp_pose.POSE_CONNECTIONS, mp_drawing.DrawingSpec(color=(0, 0, 255)), mp_drawing.DrawingSpec(color=(0, 255, 0)))\n",
    "        \n",
    "        cv2.imshow('Backend Limb Detection', image)\n",
    "        if cv2.waitKey(10) & 0xFF == ord('q'):\n",
    "            break\n",
    "                \n",
    "cv2.destroyAllWindows()\n",
    "cap.release()"
   ],
   "id": "fd54a1639b951d40",
   "outputs": [],
   "execution_count": 5
  },
  {
   "metadata": {},
   "cell_type": "code",
   "source": "len(landmarks)",
   "id": "6a2cdb7a0367ee8d",
   "outputs": [],
   "execution_count": null
  },
  {
   "metadata": {},
   "cell_type": "code",
   "source": [
    "for lndmk in mp_pose.PoseLandmark:\n",
    "    print(lndmk)"
   ],
   "id": "594a561ed3081f85",
   "outputs": [],
   "execution_count": null
  },
  {
   "metadata": {},
   "cell_type": "code",
   "source": [
    "landmarks[mp_pose.PoseLandmark.LEFT_SHOULDER.value]\n",
    "# landmarks[mp_pose.PoseLandmark.LEFT_SHOULDER.value].x"
   ],
   "id": "f66893dfdbf24c06",
   "outputs": [],
   "execution_count": null
  },
  {
   "metadata": {},
   "cell_type": "code",
   "source": "mp_pose.PoseLandmark.LEFT_ELBOW.value",
   "id": "1cb0b280dbb1442",
   "outputs": [],
   "execution_count": null
  },
  {
   "metadata": {},
   "cell_type": "code",
   "source": [
    "# # for testing\n",
    "# def calculate_angle(a, b, c):\n",
    "#     # find vector between AB (vector u) and AC (vector v)\n",
    "#     u = ((b[0] - a[0]), (b[1] - a[1]))\n",
    "#     v = ((c[0] - a[0]), (c[1] - a[1]))\n",
    "#     print(\"vectors\")\n",
    "#     print(u)\n",
    "#     print(v)\n",
    "#     \n",
    "#     # dot_product\n",
    "#     dot_uv = np.dot(u, v)\n",
    "#     print(\"dot uv\")\n",
    "#     print(dot_uv)\n",
    "#     \n",
    "#     # magnitude of u\n",
    "#     mag_u = math.sqrt(pow(u[0], 2) + pow(u[1], 2))\n",
    "#     mag_v = math.sqrt(pow(v[0], 2) + pow(v[1], 2))\n",
    "#     print(\"mag u and v\")\n",
    "#     print(mag_u, mag_v)\n",
    "#     \n",
    "#     # magnitude of uv\n",
    "#     mag_uv = mag_u * mag_v\n",
    "#     print(\"mag uv\")\n",
    "#     print(mag_uv)\n",
    "#     \n",
    "#     theta_rad = math.acos(dot_uv / mag_uv)\n",
    "#     print(\"theta\")\n",
    "#     print(theta_rad)\n",
    "#     \n",
    "#     # radians to degrees\n",
    "#     theta_deg = math.degrees(theta_rad)\n",
    "#     print(\"theta_deg\")\n",
    "#     print(theta_deg)\n",
    "# \n",
    "# calculate_angle((-1,1), (2,-1), (2,2))"
   ],
   "id": "3306da5a186069e8",
   "outputs": [],
   "execution_count": null
  }
 ],
 "metadata": {
  "kernelspec": {
   "display_name": "Python 3",
   "language": "python",
   "name": "python3"
  },
  "language_info": {
   "codemirror_mode": {
    "name": "ipython",
    "version": 2
   },
   "file_extension": ".py",
   "mimetype": "text/x-python",
   "name": "python",
   "nbconvert_exporter": "python",
   "pygments_lexer": "ipython2",
   "version": "2.7.6"
  }
 },
 "nbformat": 4,
 "nbformat_minor": 5
}
