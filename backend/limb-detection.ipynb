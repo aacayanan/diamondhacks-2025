{
 "cells": [
  {
   "cell_type": "code",
   "id": "initial_id",
   "metadata": {
    "collapsed": true,
    "ExecuteTime": {
     "end_time": "2025-04-05T19:23:34.485861Z",
     "start_time": "2025-04-05T19:23:34.480855Z"
    }
   },
   "source": [
    "# import dependencies\n",
    "import cv2\n",
    "import mediapipe as mp"
   ],
   "outputs": [],
   "execution_count": 39
  },
  {
   "metadata": {
    "ExecuteTime": {
     "end_time": "2025-04-05T19:23:35.898865Z",
     "start_time": "2025-04-05T19:23:35.893796Z"
    }
   },
   "cell_type": "code",
   "source": [
    "# initialize the mediapipe poses and drawing utilities\n",
    "mp_drawing = mp.solutions.drawing_utils\n",
    "mp_pose = mp.solutions.pose"
   ],
   "id": "41f853f32e1fb574",
   "outputs": [],
   "execution_count": 40
  },
  {
   "metadata": {
    "ExecuteTime": {
     "end_time": "2025-04-05T19:23:43.282651Z",
     "start_time": "2025-04-05T19:23:37.034378Z"
    }
   },
   "cell_type": "code",
   "source": [
    "# setup mediapipe\n",
    "cap = cv2.VideoCapture(0)\n",
    "\n",
    "# check if camera can open\n",
    "if not cap.isOpened():\n",
    "    print(\"Could not open camera\")\n",
    "    exit()\n",
    "    \n",
    "with mp_pose.Pose(min_detection_confidence=0.5, min_tracking_confidence=0.5) as pose:\n",
    "    while cap.isOpened():\n",
    "        ret, frame = cap.read()\n",
    "        \n",
    "        # recolor image to RGB\n",
    "        image = cv2.cvtColor(frame, cv2.COLOR_BGR2RGB)\n",
    "        image.flags.writeable = False       # makes image read-only for detection\n",
    "        \n",
    "        # make the detection\n",
    "        results = pose.process(image)\n",
    "        \n",
    "        # recolor back to BGR\n",
    "        image.flags.writeable = True\n",
    "        image = cv2.cvtColor(image, cv2.COLOR_RGB2BGR)\n",
    "        \n",
    "        # render detections\n",
    "        mp_drawing.draw_landmarks(image, results.pose_landmarks, mp_pose.POSE_CONNECTIONS)\n",
    "        # print(image)\n",
    "        \n",
    "        cv2.imshow('Backend Limb Detection', cv2.flip(image, 1))\n",
    "        if cv2.waitKey(10) & 0xFF == ord('q'):\n",
    "            break\n",
    "            \n",
    "cv2.destroyAllWindows()\n",
    "cap.release()"
   ],
   "id": "fd54a1639b951d40",
   "outputs": [],
   "execution_count": 41
  }
 ],
 "metadata": {
  "kernelspec": {
   "display_name": "Python 3",
   "language": "python",
   "name": "python3"
  },
  "language_info": {
   "codemirror_mode": {
    "name": "ipython",
    "version": 2
   },
   "file_extension": ".py",
   "mimetype": "text/x-python",
   "name": "python",
   "nbconvert_exporter": "python",
   "pygments_lexer": "ipython2",
   "version": "2.7.6"
  }
 },
 "nbformat": 4,
 "nbformat_minor": 5
}
