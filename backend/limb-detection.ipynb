{
 "cells": [
  {
   "cell_type": "code",
   "id": "initial_id",
   "metadata": {
    "collapsed": true,
    "ExecuteTime": {
     "end_time": "2025-04-05T18:09:34.343997Z",
     "start_time": "2025-04-05T18:09:33.177811Z"
    }
   },
   "source": [
    "# import dependencies\n",
    "import cv2"
   ],
   "outputs": [],
   "execution_count": 2
  },
  {
   "metadata": {
    "ExecuteTime": {
     "end_time": "2025-04-05T18:13:03.625420Z",
     "start_time": "2025-04-05T18:13:00.851374Z"
    }
   },
   "cell_type": "code",
   "source": [
    "# create a video capture object\n",
    "cap = cv2.VideoCapture(0)\n",
    "\n",
    "# check if camera can open\n",
    "if not cap.isOpened():\n",
    "    print(\"Could not open camera\")\n",
    "    exit()\n",
    "    \n",
    "# enter when cap object has a camera attached\n",
    "while cap:\n",
    "    ret, frame = cap.read()\n",
    "    cv2.imshow('Backend Limb Detection', cv2.flip(frame, 1))    # show the camera feed, flip image\n",
    "    if cv2.waitKey(10) & 0xFF == ord('q'):                      # to exit window\n",
    "        break\n",
    "        \n",
    "        \n",
    "cv2.destroyAllWindows()\n",
    "cap.release()"
   ],
   "id": "d45d49c4f9d1eaa8",
   "outputs": [],
   "execution_count": 7
  }
 ],
 "metadata": {
  "kernelspec": {
   "display_name": "Python 3",
   "language": "python",
   "name": "python3"
  },
  "language_info": {
   "codemirror_mode": {
    "name": "ipython",
    "version": 2
   },
   "file_extension": ".py",
   "mimetype": "text/x-python",
   "name": "python",
   "nbconvert_exporter": "python",
   "pygments_lexer": "ipython2",
   "version": "2.7.6"
  }
 },
 "nbformat": 4,
 "nbformat_minor": 5
}
