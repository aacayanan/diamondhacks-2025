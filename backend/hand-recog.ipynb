{
 "cells": [
  {
   "cell_type": "code",
   "id": "initial_id",
   "metadata": {
    "collapsed": true,
    "ExecuteTime": {
     "end_time": "2025-04-06T02:05:59.178528Z",
     "start_time": "2025-04-06T02:05:54.419240Z"
    }
   },
   "source": [
    "import cv2\n",
    "import mediapipe as mp\n",
    "import time"
   ],
   "outputs": [],
   "execution_count": 1
  },
  {
   "metadata": {
    "ExecuteTime": {
     "end_time": "2025-04-06T02:13:09.760791Z",
     "start_time": "2025-04-06T02:11:47.448124Z"
    }
   },
   "cell_type": "code",
   "source": [
    "mp_drawing = mp.solutions.drawing_utils\n",
    "mp_hands = mp.solutions.hands\n",
    "cap = cv2.VideoCapture(0)\n",
    "\n",
    "with mp_hands.Hands(min_detection_confidence=0.5, min_tracking_confidence=0.5) as hands:\n",
    "    while cap.isOpened():\n",
    "        ret, frame = cap.read()\n",
    "\n",
    "        # invert the video\n",
    "        frame = cv2.flip(frame, 1)\n",
    "\n",
    "        # recolor image to RGB\n",
    "        image = cv2.cvtColor(frame, cv2.COLOR_BGR2RGB)\n",
    "        image.flags.writeable = False  # makes image read-only for detection\n",
    "\n",
    "        # make the detection\n",
    "        results = hands.process(image)\n",
    "\n",
    "        # recolor back to BGR\n",
    "        image.flags.writeable = True\n",
    "        image = cv2.cvtColor(image, cv2.COLOR_RGB2BGR)\n",
    "        \n",
    "        if results.multi_hand_landmarks:\n",
    "            for lndmk in results.multi_hand_landmarks:\n",
    "                mp_drawing.draw_landmarks(image, lndmk, mp_hands.HAND_CONNECTIONS)\n",
    "                \n",
    "\n",
    "        cv2.imshow('Hand Recognition', image)\n",
    "        if cv2.waitKey(10) & 0xFF == ord('q'):\n",
    "            break\n",
    "cv2.destroyAllWindows()\n",
    "cap.release()"
   ],
   "id": "a3ab0ecff4d96d41",
   "outputs": [],
   "execution_count": 8
  },
  {
   "metadata": {},
   "cell_type": "code",
   "outputs": [],
   "execution_count": null,
   "source": "",
   "id": "5bc9e8417cf9a46c"
  }
 ],
 "metadata": {
  "kernelspec": {
   "display_name": "Python 3",
   "language": "python",
   "name": "python3"
  },
  "language_info": {
   "codemirror_mode": {
    "name": "ipython",
    "version": 2
   },
   "file_extension": ".py",
   "mimetype": "text/x-python",
   "name": "python",
   "nbconvert_exporter": "python",
   "pygments_lexer": "ipython2",
   "version": "2.7.6"
  }
 },
 "nbformat": 4,
 "nbformat_minor": 5
}
